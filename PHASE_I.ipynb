{
 "cells": [
  {
   "cell_type": "markdown",
   "metadata": {},
   "source": [
    "<div style=\"background-color: #00008B; color: #FFFFFF; padding: 10px; border-radius: 5px;\">\n",
    "  <h1 style=\"font-family: 'Arial', sans-serif;\">LSTM Sentiment Analysis Amazon Dataset</h1>\n",
    "</div>\n",
    "\n",
    "<a href=\"https://www.kaggle.com/datasets/bittlingmayer/amazonreviews\">Amazon Reviews Dataset Download Link</a>"
   ]
  },
  {
   "cell_type": "code",
   "execution_count": 3,
   "metadata": {},
   "outputs": [
    {
     "name": "stdout",
     "output_type": "stream",
     "text": [
      "2.0.1\n",
      "0.15.2\n"
     ]
    }
   ],
   "source": [
    "import torch\n",
    "from torch import nn\n",
    "import torchtext\n",
    "import numpy as np\n",
    "import random, time, json\n",
    "from tqdm import tqdm\n",
    "\n",
    "print(torch.__version__)\n",
    "print(torchtext.__version__)\n"
   ]
  },
  {
   "cell_type": "code",
   "execution_count": 71,
   "metadata": {},
   "outputs": [
    {
     "data": {
      "text/plain": [
       "device(type='cpu')"
      ]
     },
     "execution_count": 71,
     "metadata": {},
     "output_type": "execute_result"
    }
   ],
   "source": [
    "# if not torch.backends.mps.is_available():\n",
    "#     if not torch.backends.mps.is_built():\n",
    "#         print(\"MPS not available because the current PyTorch install was not \"\n",
    "#               \"built with MPS enabled.\")\n",
    "#     else:\n",
    "#         print(\"MPS not available because the current MacOS version is not 12.3+ \"\n",
    "#               \"and/or you do not have an MPS-enabled device on this machine.\")\n",
    "    \n",
    "#     DEVICE = torch.device(\"cuda\" if torch.cuda.is_available() else \"cpu\")\n",
    "\n",
    "# else:\n",
    "#     DEVICE = torch.device(\"mps\")\n",
    "\n",
    "\n",
    "DEVICE = torch.device(\"cuda\" if torch.cuda.is_available() else \"cpu\")\n",
    "DEVICE"
   ]
  },
  {
   "cell_type": "markdown",
   "metadata": {},
   "source": [
    "<style>\n",
    ".custom-container {\n",
    "    background-color: #00008B; /* Dark Blue Background Color */\n",
    "    color: #FFFFFF; /* White Text Color */\n",
    "    width: 100%;\n",
    "    box-sizing: border-box;\n",
    "    border: 2px solid #FFFFFF; /* White Border */\n",
    "    border-radius: 10px; /* Rounded Corners */\n",
    "  }\n",
    "  .custom-container h2 {\n",
    "    padding: 10px; /* Inner padding for h2 element */\n",
    "  }\n",
    "</style>\n",
    "<div class=\"custom-container\"><h2>Extract and Read Data</h2></div>\n"
   ]
  },
  {
   "cell_type": "code",
   "execution_count": 72,
   "metadata": {},
   "outputs": [],
   "source": [
    "TRAIN_PATH = \"dataset/train.ft.txt.bz2\"\n",
    "TEST_PATH = \"dataset/test.ft.txt.bz2\"\n"
   ]
  },
  {
   "cell_type": "code",
   "execution_count": 73,
   "metadata": {},
   "outputs": [],
   "source": [
    "MIN_LEN_ALLOWED = 3     # select review that has more than MIN_LEN_ALLOWED words\n",
    "MAX_LEN_ALLOWED = 60    # select review that has less than MAX_LEN_ALLOWED words\n",
    "N_TRAIN = 1_000_000     # maximum number of training samples to select\n",
    "N_TEST = 250_000        # maximum number of test samples to select"
   ]
  },
  {
   "cell_type": "code",
   "execution_count": 74,
   "metadata": {},
   "outputs": [],
   "source": [
    "def text_filter(text):\n",
    "    alpha = \"abcdefghijklnopqrstuvwxyz \"\n",
    "    text = \"\".join([i for i in text.lower().strip() if i in alpha])\n",
    "    text_len = len(text.split())\n",
    "    return text_len >= MIN_LEN_ALLOWED - 1 and text_len <= MAX_LEN_ALLOWED"
   ]
  },
  {
   "cell_type": "code",
   "execution_count": 75,
   "metadata": {},
   "outputs": [],
   "source": [
    "import bz2\n",
    "\n",
    "def extract_content(file_path, N=None):\n",
    "    data = []\n",
    "    with bz2.open(file_path, 'rt') as f:\n",
    "        with tqdm(total=N) as pbar:\n",
    "            while (line := f.readline()):\n",
    "                line = f.readline()\n",
    "                label = int(line[9])\n",
    "                text = line[11:]\n",
    "                if text_filter(text):\n",
    "                    data.append(\n",
    "                        [label, text]\n",
    "                    )\n",
    "                    pbar.update(1)\n",
    "                if pbar.n == N: break\n",
    "\n",
    "    return data"
   ]
  },
  {
   "cell_type": "code",
   "execution_count": 76,
   "metadata": {},
   "outputs": [
    {
     "name": "stderr",
     "output_type": "stream",
     "text": [
      " 77%|███████▋  | 767319/1000000 [02:20<00:42, 5462.04it/s] \n"
     ]
    }
   ],
   "source": [
    "train = extract_content(TRAIN_PATH, N=N_TRAIN)"
   ]
  },
  {
   "cell_type": "code",
   "execution_count": 77,
   "metadata": {},
   "outputs": [
    {
     "name": "stderr",
     "output_type": "stream",
     "text": [
      " 34%|███▍      | 85135/250000 [00:14<00:28, 5691.32it/s]\n"
     ]
    }
   ],
   "source": [
    "test = extract_content(TEST_PATH, N=N_TEST)"
   ]
  },
  {
   "cell_type": "code",
   "execution_count": 78,
   "metadata": {},
   "outputs": [],
   "source": [
    "def equalize_labels(data):\n",
    "    # Count the number of tuples with label 1 and label 2\n",
    "    count_1 = sum(1 for item in data if item[0] == 1)\n",
    "    count_2 = sum(1 for item in data if item[0] == 2)\n",
    "\n",
    "\n",
    "    # Determine the minimum count between label 1 and label 2\n",
    "    min_count = min(count_1, count_2)\n",
    "\n",
    "    # Collect tuples with label 1 and label 2 up to the minimum count\n",
    "    new_data = [item for item in data if item[0] == 1][:min_count]\n",
    "    new_data += [item for item in data if item[0] == 2][:min_count]\n",
    "\n",
    "    # shuffling the data\n",
    "    random.shuffle(new_data)\n",
    "\n",
    "    return new_data"
   ]
  },
  {
   "cell_type": "code",
   "execution_count": 79,
   "metadata": {},
   "outputs": [],
   "source": [
    "train = equalize_labels(train)"
   ]
  },
  {
   "cell_type": "code",
   "execution_count": 80,
   "metadata": {},
   "outputs": [
    {
     "name": "stdout",
     "output_type": "stream",
     "text": [
      "Total Train Samples: 704848\n",
      "Total TEST Samples: 85135\n"
     ]
    }
   ],
   "source": [
    "N_TRAIN = len(train)\n",
    "N_TEST = len(test)\n",
    "\n",
    "print(\"Total Train Samples:\", N_TRAIN)\n",
    "print(\"Total TEST Samples:\", N_TEST)"
   ]
  },
  {
   "cell_type": "code",
   "execution_count": 81,
   "metadata": {},
   "outputs": [
    {
     "data": {
      "text/plain": [
       "([2,\n",
       "  'Great Value: I recently bought this and it works very well. It is inexpensive, effective and not bad looking either. You can spend hundreds on a wooden box that does much the same thing or simply spend your money on more watches instead.\\n'],\n",
       " [2,\n",
       "  \"works fine, but Maha Energy is better: Check out Maha Energy's website. Their Powerex MH-C204F charger works in 100 minutes for rapid charge, with option for slower charge (better for batteries). And they have 2200 mAh batteries.\\n\"])"
      ]
     },
     "execution_count": 81,
     "metadata": {},
     "output_type": "execute_result"
    }
   ],
   "source": [
    "train[0], test[0]"
   ]
  },
  {
   "cell_type": "markdown",
   "metadata": {},
   "source": [
    "# Description of Data\n",
    "Distribution of Number of words in each sentence\n",
    "Label Distribution\n",
    "- 1: Negative Sentiment\n",
    "- 2: Positive Sentiment"
   ]
  },
  {
   "cell_type": "code",
   "execution_count": 82,
   "metadata": {},
   "outputs": [],
   "source": [
    "import pandas as pd\n",
    "import seaborn as sns\n",
    "import matplotlib.pyplot as plt"
   ]
  },
  {
   "cell_type": "code",
   "execution_count": 83,
   "metadata": {},
   "outputs": [],
   "source": [
    "def plot_length_distribution(data, name, ax):\n",
    "    data = [len(i[1].split(\" \")) for i in data]\n",
    "    sns.histplot(data, bins=MAX_LEN_ALLOWED-MIN_LEN_ALLOWED, color='skyblue', edgecolor='white', ax=ax)\n",
    "    ax.set_xlabel('Length of Sentences')\n",
    "    ax.set_ylabel('Frequency')\n",
    "    ax.set_title(f'Distribution of Length of Sentences in {name} Data')\n",
    "\n",
    "def plot_label_distribution(data, name, ax):\n",
    "    data = pd.Series([i[0] for i in data])\n",
    "    data = data.value_counts()\n",
    "    data.plot(kind='bar', title=f\"Label Distribution in {name} Data\", color=\"skyblue\", ax=ax)"
   ]
  },
  {
   "cell_type": "code",
   "execution_count": 84,
   "metadata": {},
   "outputs": [
    {
     "data": {
      "image/png": "[encoded data removed]",
      "text/plain": [
       "<Figure size 864x864 with 4 Axes>"
      ]
     },
     "metadata": {
      "needs_background": "light"
     },
     "output_type": "display_data"
    }
   ],
   "source": [
    "fig, axes = plt.subplots(2, 2, figsize=(12, 12))\n",
    "\n",
    "plot_length_distribution(train, name=\"Train\", ax=axes[0][0])\n",
    "plot_length_distribution(test, name=\"Test\", ax=axes[0][1])\n",
    "plot_label_distribution(train, name=\"Train\", ax=axes[1][0])\n",
    "plot_label_distribution(test, name=\"Test\", ax=axes[1][1])"
   ]
  },
  {
   "cell_type": "markdown",
   "metadata": {},
   "source": [
    "## Data Pipeline\n",
    "- Label Pipeline\n",
    "  - converting labels from [1, 2] to [0, 1], negative and positive respectively\n",
    "- Text Pipeline\n",
    "  - cleaning\n",
    "  - tokenizing\n",
    "  - vocab"
   ]
  },
  {
   "cell_type": "code",
   "execution_count": 85,
   "metadata": {},
   "outputs": [],
   "source": [
    "example_text = \"Fuck you, Lol\""
   ]
  },
  {
   "cell_type": "code",
   "execution_count": 86,
   "metadata": {},
   "outputs": [],
   "source": [
    "import re\n",
    "def clean_text(text):\n",
    "    # Remove extra spaces\n",
    "    text = text.strip()\n",
    "    # Convert multiple spaces to single spaces\n",
    "    text = re.sub('\\s+', ' ', text)\n",
    "    # Lowercase the text\n",
    "    text = text.lower()\n",
    "    # Remove punctuation marks\n",
    "    text = re.sub('[^\\w\\s]', '', text)\n",
    "    return text"
   ]
  },
  {
   "cell_type": "code",
   "execution_count": 87,
   "metadata": {},
   "outputs": [
    {
     "data": {
      "text/plain": [
       "'fuck you lol'"
      ]
     },
     "execution_count": 87,
     "metadata": {},
     "output_type": "execute_result"
    }
   ],
   "source": [
    "clean_text(example_text)"
   ]
  },
  {
   "cell_type": "code",
   "execution_count": 88,
   "metadata": {},
   "outputs": [],
   "source": [
    "tokenizer = torchtext.data.utils.get_tokenizer('basic_english')"
   ]
  },
  {
   "cell_type": "code",
   "execution_count": 89,
   "metadata": {},
   "outputs": [
    {
     "data": {
      "text/plain": [
       "['fuck', 'you', 'lol']"
      ]
     },
     "execution_count": 89,
     "metadata": {},
     "output_type": "execute_result"
    }
   ],
   "source": [
    "tokenizer(\n",
    "    clean_text(example_text)\n",
    ")"
   ]
  },
  {
   "cell_type": "code",
   "execution_count": 90,
   "metadata": {},
   "outputs": [],
   "source": [
    "VOCAB_SIZE = 8_000"
   ]
  },
  {
   "cell_type": "code",
   "execution_count": 91,
   "metadata": {},
   "outputs": [],
   "source": [
    "def vocab_iter(data):\n",
    "    for row in data:\n",
    "        text = row[1]\n",
    "        yield tokenizer(clean_text(text))"
   ]
  },
  {
   "cell_type": "code",
   "execution_count": 92,
   "metadata": {},
   "outputs": [
    {
     "name": "stdout",
     "output_type": "stream",
     "text": [
      "['works', 'fine', 'but', 'maha', 'energy', 'is', 'better', 'check', 'out', 'maha', 'energys', 'website', 'their', 'powerex', 'mhc204f', 'charger', 'works', 'in', '100', 'minutes', 'for', 'rapid', 'charge', 'with', 'option', 'for', 'slower', 'charge', 'better', 'for', 'batteries', 'and', 'they', 'have', '2200', 'mah', 'batteries']\n"
     ]
    }
   ],
   "source": [
    "print(next(vocab_iter(test)))"
   ]
  },
  {
   "cell_type": "code",
   "execution_count": 93,
   "metadata": {},
   "outputs": [],
   "source": [
    "vocab = torchtext.vocab.build_vocab_from_iterator(\n",
    "    vocab_iter(train),\n",
    "    specials=[\"<OOV>\"],\n",
    "    max_tokens = VOCAB_SIZE,\n",
    ")\n",
    "vocab.set_default_index(vocab[\"<OOV>\"])"
   ]
  },
  {
   "cell_type": "code",
   "execution_count": 32,
   "metadata": {},
   "outputs": [
    {
     "name": "stdout",
     "output_type": "stream",
     "text": [
      "['<OOV>', 'the', 'i', 'and', 'a', 'it', 'this', 'to', 'is', 'of', 'for', 'not', 'in', 'was', 'my', 'book', 'but', 'you', 'that', 'with']\n"
     ]
    }
   ],
   "source": [
    "print(vocab.get_itos()[:20])"
   ]
  },
  {
   "cell_type": "code",
   "execution_count": 94,
   "metadata": {},
   "outputs": [
    {
     "data": {
      "text/plain": [
       "[0, 17, 2216]"
      ]
     },
     "execution_count": 94,
     "metadata": {},
     "output_type": "execute_result"
    }
   ],
   "source": [
    "vocab(\n",
    "    tokenizer(\n",
    "        clean_text(example_text)\n",
    "    )\n",
    ")"
   ]
  },
  {
   "cell_type": "code",
   "execution_count": 95,
   "metadata": {},
   "outputs": [
    {
     "data": {
      "text/plain": [
       "[0, 17, 2216]"
      ]
     },
     "execution_count": 95,
     "metadata": {},
     "output_type": "execute_result"
    }
   ],
   "source": [
    "def TEXT_PIPELINE(text):\n",
    "    return vocab(tokenizer(clean_text(text)))\n",
    "\n",
    "TEXT_PIPELINE(example_text)"
   ]
  },
  {
   "cell_type": "code",
   "execution_count": 96,
   "metadata": {},
   "outputs": [
    {
     "data": {
      "text/plain": [
       "1"
      ]
     },
     "execution_count": 96,
     "metadata": {},
     "output_type": "execute_result"
    }
   ],
   "source": [
    "def LABEL_PIPELINE(label):\n",
    "    return label - 1\n",
    "\n",
    "LABEL_PIPELINE(2)"
   ]
  },
  {
   "cell_type": "code",
   "execution_count": 97,
   "metadata": {},
   "outputs": [
    {
     "name": "stdout",
     "output_type": "stream",
     "text": [
      "(1, [21, 470, 2, 981, 78, 6, 3, 5, 116, 23, 63, 5, 8, 1431, 1267, 3, 11, 99, 168, 488, 17, 65, 664, 3345, 20, 4, 2807, 310, 18, 90, 71, 1, 162, 180, 57, 448, 664, 56, 74, 20, 51, 2401, 332])\n"
     ]
    }
   ],
   "source": [
    "def PIPELINE(sample):\n",
    "    return (LABEL_PIPELINE(sample[0]), TEXT_PIPELINE(sample[1]))\n",
    "\n",
    "print(PIPELINE(train[0]))"
   ]
  },
  {
   "cell_type": "code",
   "execution_count": 98,
   "metadata": {},
   "outputs": [
    {
     "name": "stderr",
     "output_type": "stream",
     "text": [
      "  0%|          | 0/704848 [00:00<?, ?it/s]"
     ]
    },
    {
     "name": "stderr",
     "output_type": "stream",
     "text": [
      "100%|██████████| 704848/704848 [00:40<00:00, 17320.36it/s]\n",
      "100%|██████████| 85135/85135 [00:03<00:00, 24902.99it/s]\n"
     ]
    }
   ],
   "source": [
    "new_train = []\n",
    "for item in tqdm(train):\n",
    "    new_train.append(PIPELINE(item))\n",
    "train = new_train\n",
    "\n",
    "new_test = []\n",
    "for item in tqdm(test):\n",
    "    new_test.append(PIPELINE(item))\n",
    "test = new_test"
   ]
  },
  {
   "cell_type": "markdown",
   "metadata": {},
   "source": [
    "# Dataloader"
   ]
  },
  {
   "cell_type": "code",
   "execution_count": 99,
   "metadata": {},
   "outputs": [],
   "source": [
    "PADDING_IDX = vocab['<OOV>']"
   ]
  },
  {
   "cell_type": "code",
   "execution_count": 100,
   "metadata": {},
   "outputs": [],
   "source": [
    "# this function is called when a batch is generated in from DataLoader\n",
    "def collate_batch(batch):\n",
    "    time_i = time.time()\n",
    "    label_list, text_list = [], []\n",
    "    for (_label, _text) in batch:\n",
    "        label_list.append(_label)\n",
    "        text_list.append(torch.tensor(_text))\n",
    "            \n",
    "    label_list = torch.tensor(label_list, dtype=torch.float32).to(DEVICE)\n",
    "    sequences =  torch.nn.utils.rnn.pad_sequence(\n",
    "        text_list,\n",
    "        batch_first = True,\n",
    "        padding_value = PADDING_IDX\n",
    "    ).to(DEVICE)\n",
    "\n",
    "    return sequences, label_list\n",
    "\n",
    "# this function decides how to split the dataset into batches, here sentences of similar lengths are kept in a batch together\n",
    "class SortedSampler(torch.utils.data.Sampler):\n",
    "    def __init__(self, data_source, batch_size, shuffle_times):\n",
    "        self.batch_size = batch_size\n",
    "        self.shuffle_times = shuffle_times\n",
    "\n",
    "        # getting sorted index\n",
    "        self.idx = [i[0] for i in sorted(enumerate(data_source), key=lambda x: len(x[1]))]\n",
    "\n",
    "    def shuffle_idx(self):\n",
    "        # starting points for each batch\n",
    "        offsets = list(range(0, len(self.idx), self.batch_size))[:-1]\n",
    "        # shuffling inter-batch\n",
    "        for i in range(self.shuffle_times):\n",
    "            i1, i2 = random.choices(offsets, k=2)\n",
    "            self.idx[i1:i1+self.batch_size], self.idx[i2:i2+self.batch_size] = self.idx[i2:i2+self.batch_size], self.idx[i1:i1+self.batch_size]\n",
    "\n",
    "    def __iter__(self):\n",
    "        return iter(self.idx)\n",
    "\n",
    "    def __len__(self):\n",
    "        return len(self.idx)"
   ]
  },
  {
   "cell_type": "markdown",
   "metadata": {},
   "source": [
    "# Modelling"
   ]
  },
  {
   "cell_type": "markdown",
   "metadata": {},
   "source": [
    "## Custom Embeddings"
   ]
  },
  {
   "cell_type": "code",
   "execution_count": 101,
   "metadata": {},
   "outputs": [
    {
     "data": {
      "text/plain": [
       "torch.Size([8000, 128])"
      ]
     },
     "execution_count": 101,
     "metadata": {},
     "output_type": "execute_result"
    }
   ],
   "source": [
    "from gensim.models import Word2Vec\n",
    "\n",
    "# Initializing\n",
    "model = Word2Vec(\n",
    "    vector_size = 128,\n",
    "    window = 5, \n",
    "    min_count = 1\n",
    ")\n",
    "\n",
    "# Vocabulary\n",
    "model.build_vocab_from_freq({i: VOCAB_SIZE - i + 1 for i in range(VOCAB_SIZE)})\n",
    "for k, v in model.wv.key_to_index.items():\n",
    "    assert k == v\n",
    "\n",
    "# Training\n",
    "model.train(\n",
    "    [i[1] for i in train],\n",
    "    total_examples=len(train),\n",
    "    epochs=3\n",
    ")\n",
    "\n",
    "# Extracting Embeddings\n",
    "pretrained_embeddings = model.wv.vectors\n",
    "pretrained_embeddings = torch.tensor(pretrained_embeddings)\n",
    "\n",
    "pretrained_embeddings.shape"
   ]
  },
  {
   "cell_type": "code",
   "execution_count": 102,
   "metadata": {},
   "outputs": [
    {
     "name": "stdout",
     "output_type": "stream",
     "text": [
      "Similar Words for \"good\":\n",
      "-> great\n",
      "-> decent\n",
      "-> nice\n",
      "-> bad\n",
      "-> ok\n",
      "-> excellent\n",
      "-> cool\n",
      "-> okay\n",
      "-> neat\n",
      "-> terrific\n"
     ]
    }
   ],
   "source": [
    "word = \"good\"\n",
    "print(f\"Similar Words for \\\"{word}\\\":\")\n",
    "for i in model.wv.most_similar(vocab([word])[0]):\n",
    "    print(\"->\", vocab.get_itos()[i[0]])"
   ]
  },
  {
   "cell_type": "markdown",
   "metadata": {},
   "source": [
    "## Utilities"
   ]
  },
  {
   "cell_type": "code",
   "execution_count": 103,
   "metadata": {},
   "outputs": [],
   "source": [
    "def accuracy(preds, labels):\n",
    "    bools = preds.round() == labels\n",
    "    return bools.sum(0) / len(bools)\n",
    "\n",
    "def predict_texts(texts, _print=True):\n",
    "\n",
    "    x, y = collate_batch(\n",
    "        [[0, TEXT_PIPELINE(text)] for text in texts]\n",
    "    )\n",
    "    model.eval()\n",
    "    preds = model(x)\n",
    "    preds = preds.tolist()\n",
    "\n",
    "    if _print:\n",
    "        for pred, orig_text in zip(preds, texts):\n",
    "            print(f\"{int(round(pred))} ({round(pred, 3)}) - {orig_text}\")\n",
    "    else:\n",
    "        return preds\n",
    "\n",
    "def plot_history(history, skip_keys=[], splits=1, figsize=None):\n",
    "\n",
    "    if figsize == None: figsize = (15, 15//len(history))\n",
    "    fig, axs = plt.subplots(1, len(history), figsize=figsize)\n",
    "\n",
    "    for i, (_key, _val) in enumerate(history.items()):\n",
    "        for key, val in _val.items():\n",
    "            if key in skip_keys: continue\n",
    "            # creating splits\n",
    "            val = torch.tensor(val)\n",
    "            val = val[:(len(val) // splits) * splits].view(splits, -1).mean(axis=1)\n",
    "            axs[i].plot(val, label=key)\n",
    "        axs[i].legend()\n",
    "        axs[i].set_title(_key)\n",
    "\n",
    "    plt.show()"
   ]
  },
  {
   "cell_type": "markdown",
   "metadata": {},
   "source": [
    "# Model Architechture\n",
    "\n",
    "- Input ```(batch_size, seq_len)```\n",
    "- Embedding Layer ```(batch_size, seq_len, emd_dim)```\n",
    "- RNN Layer ```(batch_size, seq_len, hidden_size)```\n",
    "- Attention ```(batch_size, seq_len, hidden_size)```\n",
    "- RNN Layer ```(batch_size, hidden_size)```\n",
    "- Neural Network ```(batch_size, inner_hidden_size)```\n",
    "- Output ```(batch_size, 1)```"
   ]
  },
  {
   "cell_type": "code",
   "execution_count": 104,
   "metadata": {},
   "outputs": [],
   "source": [
    "def self_attention(Q, K, V):\t\n",
    "    d = K.shape[-1]\n",
    "    QK = Q @ K.transpose(-2, -1)\n",
    "    QK_d = QK / (d ** 0.5)\n",
    "    weights = torch.softmax(QK_d, axis=-1)\n",
    "    outputs = weights @ V\n",
    "    return outputs\n",
    "\n",
    "class Attention(torch.nn.Module):\n",
    "    def __init__(self, emb_dim, n_heads):\n",
    "        super(Attention, self).__init__()\n",
    "\n",
    "        self.emb_dim = emb_dim\n",
    "        self.n_heads = n_heads\n",
    "\n",
    "    def forward(self, X):\n",
    "\n",
    "        batch_size, seq_len, emb_dim = X.size() # (batch_size, seq_len, emb_dim)\n",
    "        n_heads = self.n_heads\n",
    "        emb_dim_per_head = emb_dim // n_heads\n",
    "\n",
    "        assert emb_dim == self.emb_dim\n",
    "        assert emb_dim_per_head * n_heads == emb_dim\n",
    "\n",
    "        X = X.transpose(1, 2)\n",
    "        output = self_attention(X, X, X)       # (batch_size, n_heads, seq_len, emb_dim_per_head)\n",
    "        output = output.transpose(1, 2)   # (batch_size, seq_len, n_heads, emb_dim_per_head)\n",
    "        output = output.contiguous().view(batch_size, seq_len, emb_dim)    # (batch_size, seq_len, emb_dim)\n",
    "\n",
    "        return output\n",
    "\n",
    "class ClassifierAttention(nn.Module):\n",
    "    def __init__(self, vocab_size, emb_dim, padding_idx, hidden_size, n_layers, attention_heads, hidden_layer_units, dropout):\n",
    "        super(ClassifierAttention, self).__init__()\n",
    "\n",
    "        self.embedding = nn.Embedding(\n",
    "            num_embeddings = vocab_size,\n",
    "            embedding_dim = emb_dim,\n",
    "            padding_idx = padding_idx\n",
    "        )\n",
    "\n",
    "        self.rnn_1 = nn.LSTM(\n",
    "            emb_dim,\n",
    "            hidden_size,\n",
    "            n_layers,\n",
    "            bidirectional = False,\n",
    "            batch_first = True,\n",
    "        )\n",
    "        self.attention = Attention(hidden_size, attention_heads)\n",
    "\n",
    "        self.rnn_2 = nn.LSTM(\n",
    "            hidden_size,\n",
    "            hidden_size,\n",
    "            n_layers,\n",
    "            bidirectional = False,\n",
    "            batch_first = True,\n",
    "        )\n",
    "\n",
    "        self.dropout = nn.Dropout(dropout)\n",
    "\n",
    "        hidden_layer_units = [hidden_size, *hidden_layer_units]\n",
    "        self.hidden_layers = nn.ModuleList([])\n",
    "        for in_unit, out_unit in zip(hidden_layer_units[:-1], hidden_layer_units[1:]):\n",
    "            self.hidden_layers.append(nn.Linear(in_unit, out_unit))\n",
    "            self.hidden_layers.append(nn.ReLU())\n",
    "            self.hidden_layers.append(self.dropout)\n",
    "        self.hidden_layers.append(nn.Linear(hidden_layer_units[-1], 1))\n",
    "\n",
    "        self.sigmoid = nn.Sigmoid()\n",
    "\n",
    "        self.add_custom_embeddings()\n",
    "\n",
    "    def add_custom_embeddings(self):\n",
    "        self.embedding.weight.data.copy_(pretrained_embeddings)\n",
    "        self.embedding.weight.requires_grad = False\n",
    "\n",
    "    def forward(self, x):\n",
    "        # x: (batch_size, seq_len)\n",
    "\n",
    "        out = self.embedding(x)     # (batch_size, seq_len, emb_dim)\n",
    "        out, (hidden_state, cell_state) = self.rnn_1(out)\n",
    "        out = self.attention(out)    # (batch_size, seq_len, hidden_size)\n",
    "        out = self.dropout(out)\n",
    "        output, (hidden_state, cell_state) = self.rnn_2(out)\n",
    "        out = hidden_state[-1]      # (batch_size, hidden_size)\n",
    "        out = self.dropout(out)\n",
    "        # (batch_size, seq_len, hidden_dim)\n",
    "        # (n_layers*n_direction, batch_size, hidden_size)\n",
    "        # (n_layers*n_direction, batch_size, hidden_size)\n",
    "\n",
    "        for layer in self.hidden_layers:\n",
    "            out = layer(out)\n",
    "\n",
    "        out = self.sigmoid(out) # (batch_size, 1)\n",
    "        out = out.squeeze(-1)   # (batch_size)\n",
    "\n",
    "        return out  "
   ]
  },
  {
   "cell_type": "code",
   "execution_count": 105,
   "metadata": {},
   "outputs": [],
   "source": [
    "# DATA PARAMETERS\n",
    "BATCH_SIZE = 8\n",
    "TEST_BATCH_SIZE = 64\n",
    "SHUFFLE_TIMES = 500_000\n",
    "TRAIN_ITERATIONS_PER_EPOCH = N_TRAIN // BATCH_SIZE\n",
    "TEST_ITERATIONS_PER_EPOCH = N_TEST // TEST_BATCH_SIZE\n",
    "# MODEL PARAMETERS\n",
    "EMB_DIM = 128\n",
    "LSTM_HIDDEN_SIZE = 64\n",
    "LSTM_N_LAYERS = 1\n",
    "ATTENTION_HEADS = 2\n",
    "HIDDEN_LAYER_UNITS = [64, 64]\n",
    "DROPOUT = 0.4\n",
    "# TRAINGING PARAMETERS\n",
    "EPOCHS = 3\n",
    "LR = 0.12\n",
    "MOMENTUM = 0\n",
    "SCHEDULER_STEP_SIZE = 1\n",
    "SCHEDULER_FACTOR = 0.8\n",
    "# TESTING PARAMETERS\n",
    "INFO_SPLIT = 5\n",
    "\n",
    "TEST_SENTENCES = [\n",
    "    # negative sentences\n",
    "    \"I'm extremely disappointed with the quality of this item; it broke within a week.\",\n",
    "    \"The customer support for this product is terrible; they were unhelpful and rude.\",#\n",
    "    \"I had high expectations for this item, but it turned out to be a total letdown.\",\n",
    "    \"The shipping was delayed, and the packaging was damaged when the product arrived.\",\n",
    "    \"I encountered multiple issues with this item, and the manufacturer provided no solutions.\",\n",
    "    \"The features advertised for this product are misleading; it doesn't perform as claimed.\",#\n",
    "    \"I found this item to be overpriced for its quality; it doesn't justify the cost.\",\n",
    "    \"The user interface is confusing and difficult to navigate; it's not user-friendly at all.\",#\n",
    "\n",
    "    # possitive sentences\n",
    "    \"The product exceeded my expectations and I am extremely satisfied with it.\",#\n",
    "    \"This is the best product I've ever purchased, and I can't recommend it enough.\",\n",
    "    \"The quality of the product is outstanding, and it's worth every penny.\",#\n",
    "    \"I've had this item for a week now, and I'm impressed with its performance.\",#\n",
    "    \"I was skeptical at first, but this product turned out to be a pleasant surprise.\",\n",
    "    \"The product arrived in a damaged box, but fortunately, the item itself was fine.\",#\n",
    "    \"I've tried many similar products, but this one stands out from the rest.\",#\n",
    "    \"The features of this item are impressive, and it offers great value for money.\",#\n",
    "]"
   ]
  },
  {
   "cell_type": "code",
   "execution_count": 106,
   "metadata": {},
   "outputs": [
    {
     "name": "stdout",
     "output_type": "stream",
     "text": [
      "TRAIN_ITERATIONS_PER_EPOCH 88106\n",
      "TEST_ITERATIONS_PER_EPOCH 1330\n",
      "Epoch: 1\tLR: 0.12\n",
      "Epoch: 2\tLR: 0.096\n",
      "Epoch: 3\tLR: 0.07680000000000001\n"
     ]
    }
   ],
   "source": [
    "print(\"TRAIN_ITERATIONS_PER_EPOCH\", TRAIN_ITERATIONS_PER_EPOCH)\n",
    "print(\"TEST_ITERATIONS_PER_EPOCH\", TEST_ITERATIONS_PER_EPOCH)\n",
    "\n",
    "lr = LR\n",
    "steps = 0\n",
    "for i in range(EPOCHS):\n",
    "    print(f\"Epoch: {i+1}\\tLR: {lr}\")\n",
    "    steps += 1\n",
    "    if steps == SCHEDULER_STEP_SIZE:\n",
    "        steps = 0\n",
    "        lr *= SCHEDULER_FACTOR"
   ]
  },
  {
   "cell_type": "code",
   "execution_count": 107,
   "metadata": {},
   "outputs": [],
   "source": [
    "train_dataloader = torch.utils.data.DataLoader(\n",
    "    train,\n",
    "    batch_size = BATCH_SIZE,\n",
    "    collate_fn = collate_batch,\n",
    "    sampler = SortedSampler(train, BATCH_SIZE, SHUFFLE_TIMES)\n",
    ")\n",
    "\n",
    "# ===> TEST DATALOADER\n",
    "test_dataloader = torch.utils.data.DataLoader(\n",
    "    test,\n",
    "    batch_size = TEST_BATCH_SIZE,\n",
    "    collate_fn = collate_batch,\n",
    "    sampler = SortedSampler(test, TEST_BATCH_SIZE, 0)\n",
    ")"
   ]
  },
  {
   "cell_type": "code",
   "execution_count": 108,
   "metadata": {},
   "outputs": [],
   "source": [
    "# ===> MODEL\n",
    "model = ClassifierAttention(VOCAB_SIZE, EMB_DIM, PADDING_IDX, LSTM_HIDDEN_SIZE, LSTM_N_LAYERS, ATTENTION_HEADS, HIDDEN_LAYER_UNITS, DROPOUT).to(DEVICE)\n",
    "\n",
    "# ===> LOSS\n",
    "criterion = nn.BCELoss()\n",
    "\n",
    "# ===> OPTIMIZER\n",
    "optimizer = torch.optim.SGD(model.parameters(), lr=LR, momentum=MOMENTUM)\n",
    "\n",
    "# ===> SCHEDULER\n",
    "scheduler = torch.optim.lr_scheduler.StepLR(optimizer, step_size=SCHEDULER_STEP_SIZE, gamma=SCHEDULER_FACTOR)"
   ]
  },
  {
   "cell_type": "code",
   "execution_count": 109,
   "metadata": {},
   "outputs": [
    {
     "data": {
      "text/plain": [
       "ClassifierAttention(\n",
       "  (embedding): Embedding(8000, 128, padding_idx=0)\n",
       "  (rnn_1): LSTM(128, 64, batch_first=True)\n",
       "  (attention): Attention()\n",
       "  (rnn_2): LSTM(64, 64, batch_first=True)\n",
       "  (dropout): Dropout(p=0.4, inplace=False)\n",
       "  (hidden_layers): ModuleList(\n",
       "    (0): Linear(in_features=64, out_features=64, bias=True)\n",
       "    (1): ReLU()\n",
       "    (2): Dropout(p=0.4, inplace=False)\n",
       "    (3): Linear(in_features=64, out_features=64, bias=True)\n",
       "    (4): ReLU()\n",
       "    (5): Dropout(p=0.4, inplace=False)\n",
       "    (6): Linear(in_features=64, out_features=1, bias=True)\n",
       "  )\n",
       "  (sigmoid): Sigmoid()\n",
       ")"
      ]
     },
     "execution_count": 109,
     "metadata": {},
     "output_type": "execute_result"
    }
   ],
   "source": [
    "model"
   ]
  },
  {
   "cell_type": "code",
   "execution_count": 112,
   "metadata": {},
   "outputs": [
    {
     "name": "stdout",
     "output_type": "stream",
     "text": [
      "0 (0.499) - I'm extremely disappointed with the quality of this item; it broke within a week.\n",
      "0 (0.499) - The customer support for this product is terrible; they were unhelpful and rude.\n",
      "0 (0.499) - I had high expectations for this item, but it turned out to be a total letdown.\n",
      "0 (0.499) - The shipping was delayed, and the packaging was damaged when the product arrived.\n",
      "0 (0.499) - I encountered multiple issues with this item, and the manufacturer provided no solutions.\n",
      "0 (0.499) - The features advertised for this product are misleading; it doesn't perform as claimed.\n",
      "0 (0.499) - I found this item to be overpriced for its quality; it doesn't justify the cost.\n",
      "0 (0.499) - The user interface is confusing and difficult to navigate; it's not user-friendly at all.\n",
      "0 (0.499) - The product exceeded my expectations and I am extremely satisfied with it.\n",
      "0 (0.499) - This is the best product I've ever purchased, and I can't recommend it enough.\n",
      "0 (0.499) - The quality of the product is outstanding, and it's worth every penny.\n",
      "0 (0.499) - I've had this item for a week now, and I'm impressed with its performance.\n",
      "0 (0.499) - I was skeptical at first, but this product turned out to be a pleasant surprise.\n",
      "0 (0.499) - The product arrived in a damaged box, but fortunately, the item itself was fine.\n",
      "0 (0.499) - I've tried many similar products, but this one stands out from the rest.\n",
      "0 (0.499) - The features of this item are impressive, and it offers great value for money.\n"
     ]
    }
   ],
   "source": [
    "predict_texts(TEST_SENTENCES)"
   ]
  },
  {
   "cell_type": "code",
   "execution_count": null,
   "metadata": {},
   "outputs": [],
   "source": []
  },
  {
   "cell_type": "code",
   "execution_count": 113,
   "metadata": {},
   "outputs": [
    {
     "name": "stderr",
     "output_type": "stream",
     "text": [
      "  6%|▌         | 5414/88106 [02:18<35:16, 39.07it/s]  \n"
     ]
    },
    {
     "ename": "KeyboardInterrupt",
     "evalue": "",
     "output_type": "error",
     "traceback": [
      "\u001b[0;31m---------------------------------------------------------------------------\u001b[0m",
      "\u001b[0;31mKeyboardInterrupt\u001b[0m                         Traceback (most recent call last)",
      "\u001b[1;32m/Users/anshumalikarna/MAJOR_PROJECT_II/PHASE_I.ipynb Cell 53\u001b[0m line \u001b[0;36m2\n\u001b[1;32m     <a href='vscode-notebook-cell:/Users/anshumalikarna/MAJOR_PROJECT_II/PHASE_I.ipynb#Y104sZmlsZQ%3D%3D?line=20'>21</a>\u001b[0m \u001b[39mfor\u001b[39;00m x, y \u001b[39min\u001b[39;00m train_dataloader:\n\u001b[1;32m     <a href='vscode-notebook-cell:/Users/anshumalikarna/MAJOR_PROJECT_II/PHASE_I.ipynb#Y104sZmlsZQ%3D%3D?line=21'>22</a>\u001b[0m     optimizer\u001b[39m.\u001b[39mzero_grad()\n\u001b[0;32m---> <a href='vscode-notebook-cell:/Users/anshumalikarna/MAJOR_PROJECT_II/PHASE_I.ipynb#Y104sZmlsZQ%3D%3D?line=22'>23</a>\u001b[0m     preds \u001b[39m=\u001b[39m model(x)\n\u001b[1;32m     <a href='vscode-notebook-cell:/Users/anshumalikarna/MAJOR_PROJECT_II/PHASE_I.ipynb#Y104sZmlsZQ%3D%3D?line=23'>24</a>\u001b[0m     \u001b[39massert\u001b[39;00m \u001b[39misinstance\u001b[39m(preds, torch\u001b[39m.\u001b[39mTensor), \u001b[39m\"\u001b[39m\u001b[39mpreds is not a tensor\u001b[39m\u001b[39m\"\u001b[39m\n\u001b[1;32m     <a href='vscode-notebook-cell:/Users/anshumalikarna/MAJOR_PROJECT_II/PHASE_I.ipynb#Y104sZmlsZQ%3D%3D?line=24'>25</a>\u001b[0m     \u001b[39massert\u001b[39;00m \u001b[39misinstance\u001b[39m(y, torch\u001b[39m.\u001b[39mTensor), \u001b[39m\"\u001b[39m\u001b[39my is not a tensor\u001b[39m\u001b[39m\"\u001b[39m\n",
      "File \u001b[0;32m~/opt/anaconda3/lib/python3.9/site-packages/torch/nn/modules/module.py:1501\u001b[0m, in \u001b[0;36mModule._call_impl\u001b[0;34m(self, *args, **kwargs)\u001b[0m\n\u001b[1;32m   1496\u001b[0m \u001b[39m# If we don't have any hooks, we want to skip the rest of the logic in\u001b[39;00m\n\u001b[1;32m   1497\u001b[0m \u001b[39m# this function, and just call forward.\u001b[39;00m\n\u001b[1;32m   1498\u001b[0m \u001b[39mif\u001b[39;00m \u001b[39mnot\u001b[39;00m (\u001b[39mself\u001b[39m\u001b[39m.\u001b[39m_backward_hooks \u001b[39mor\u001b[39;00m \u001b[39mself\u001b[39m\u001b[39m.\u001b[39m_backward_pre_hooks \u001b[39mor\u001b[39;00m \u001b[39mself\u001b[39m\u001b[39m.\u001b[39m_forward_hooks \u001b[39mor\u001b[39;00m \u001b[39mself\u001b[39m\u001b[39m.\u001b[39m_forward_pre_hooks\n\u001b[1;32m   1499\u001b[0m         \u001b[39mor\u001b[39;00m _global_backward_pre_hooks \u001b[39mor\u001b[39;00m _global_backward_hooks\n\u001b[1;32m   1500\u001b[0m         \u001b[39mor\u001b[39;00m _global_forward_hooks \u001b[39mor\u001b[39;00m _global_forward_pre_hooks):\n\u001b[0;32m-> 1501\u001b[0m     \u001b[39mreturn\u001b[39;00m forward_call(\u001b[39m*\u001b[39;49margs, \u001b[39m*\u001b[39;49m\u001b[39m*\u001b[39;49mkwargs)\n\u001b[1;32m   1502\u001b[0m \u001b[39m# Do not call functions when jit is used\u001b[39;00m\n\u001b[1;32m   1503\u001b[0m full_backward_hooks, non_full_backward_hooks \u001b[39m=\u001b[39m [], []\n",
      "\u001b[1;32m/Users/anshumalikarna/MAJOR_PROJECT_II/PHASE_I.ipynb Cell 53\u001b[0m line \u001b[0;36m8\n\u001b[1;32m     <a href='vscode-notebook-cell:/Users/anshumalikarna/MAJOR_PROJECT_II/PHASE_I.ipynb#Y104sZmlsZQ%3D%3D?line=81'>82</a>\u001b[0m out \u001b[39m=\u001b[39m \u001b[39mself\u001b[39m\u001b[39m.\u001b[39mattention(out)    \u001b[39m# (batch_size, seq_len, hidden_size)\u001b[39;00m\n\u001b[1;32m     <a href='vscode-notebook-cell:/Users/anshumalikarna/MAJOR_PROJECT_II/PHASE_I.ipynb#Y104sZmlsZQ%3D%3D?line=82'>83</a>\u001b[0m out \u001b[39m=\u001b[39m \u001b[39mself\u001b[39m\u001b[39m.\u001b[39mdropout(out)\n\u001b[0;32m---> <a href='vscode-notebook-cell:/Users/anshumalikarna/MAJOR_PROJECT_II/PHASE_I.ipynb#Y104sZmlsZQ%3D%3D?line=83'>84</a>\u001b[0m output, (hidden_state, cell_state) \u001b[39m=\u001b[39m \u001b[39mself\u001b[39;49m\u001b[39m.\u001b[39;49mrnn_2(out)\n\u001b[1;32m     <a href='vscode-notebook-cell:/Users/anshumalikarna/MAJOR_PROJECT_II/PHASE_I.ipynb#Y104sZmlsZQ%3D%3D?line=84'>85</a>\u001b[0m out \u001b[39m=\u001b[39m hidden_state[\u001b[39m-\u001b[39m\u001b[39m1\u001b[39m]      \u001b[39m# (batch_size, hidden_size)\u001b[39;00m\n\u001b[1;32m     <a href='vscode-notebook-cell:/Users/anshumalikarna/MAJOR_PROJECT_II/PHASE_I.ipynb#Y104sZmlsZQ%3D%3D?line=85'>86</a>\u001b[0m out \u001b[39m=\u001b[39m \u001b[39mself\u001b[39m\u001b[39m.\u001b[39mdropout(out)\n",
      "File \u001b[0;32m~/opt/anaconda3/lib/python3.9/site-packages/torch/nn/modules/module.py:1501\u001b[0m, in \u001b[0;36mModule._call_impl\u001b[0;34m(self, *args, **kwargs)\u001b[0m\n\u001b[1;32m   1496\u001b[0m \u001b[39m# If we don't have any hooks, we want to skip the rest of the logic in\u001b[39;00m\n\u001b[1;32m   1497\u001b[0m \u001b[39m# this function, and just call forward.\u001b[39;00m\n\u001b[1;32m   1498\u001b[0m \u001b[39mif\u001b[39;00m \u001b[39mnot\u001b[39;00m (\u001b[39mself\u001b[39m\u001b[39m.\u001b[39m_backward_hooks \u001b[39mor\u001b[39;00m \u001b[39mself\u001b[39m\u001b[39m.\u001b[39m_backward_pre_hooks \u001b[39mor\u001b[39;00m \u001b[39mself\u001b[39m\u001b[39m.\u001b[39m_forward_hooks \u001b[39mor\u001b[39;00m \u001b[39mself\u001b[39m\u001b[39m.\u001b[39m_forward_pre_hooks\n\u001b[1;32m   1499\u001b[0m         \u001b[39mor\u001b[39;00m _global_backward_pre_hooks \u001b[39mor\u001b[39;00m _global_backward_hooks\n\u001b[1;32m   1500\u001b[0m         \u001b[39mor\u001b[39;00m _global_forward_hooks \u001b[39mor\u001b[39;00m _global_forward_pre_hooks):\n\u001b[0;32m-> 1501\u001b[0m     \u001b[39mreturn\u001b[39;00m forward_call(\u001b[39m*\u001b[39;49margs, \u001b[39m*\u001b[39;49m\u001b[39m*\u001b[39;49mkwargs)\n\u001b[1;32m   1502\u001b[0m \u001b[39m# Do not call functions when jit is used\u001b[39;00m\n\u001b[1;32m   1503\u001b[0m full_backward_hooks, non_full_backward_hooks \u001b[39m=\u001b[39m [], []\n",
      "File \u001b[0;32m~/opt/anaconda3/lib/python3.9/site-packages/torch/nn/modules/rnn.py:812\u001b[0m, in \u001b[0;36mLSTM.forward\u001b[0;34m(self, input, hx)\u001b[0m\n\u001b[1;32m    810\u001b[0m \u001b[39mself\u001b[39m\u001b[39m.\u001b[39mcheck_forward_args(\u001b[39minput\u001b[39m, hx, batch_sizes)\n\u001b[1;32m    811\u001b[0m \u001b[39mif\u001b[39;00m batch_sizes \u001b[39mis\u001b[39;00m \u001b[39mNone\u001b[39;00m:\n\u001b[0;32m--> 812\u001b[0m     result \u001b[39m=\u001b[39m _VF\u001b[39m.\u001b[39;49mlstm(\u001b[39minput\u001b[39;49m, hx, \u001b[39mself\u001b[39;49m\u001b[39m.\u001b[39;49m_flat_weights, \u001b[39mself\u001b[39;49m\u001b[39m.\u001b[39;49mbias, \u001b[39mself\u001b[39;49m\u001b[39m.\u001b[39;49mnum_layers,\n\u001b[1;32m    813\u001b[0m                       \u001b[39mself\u001b[39;49m\u001b[39m.\u001b[39;49mdropout, \u001b[39mself\u001b[39;49m\u001b[39m.\u001b[39;49mtraining, \u001b[39mself\u001b[39;49m\u001b[39m.\u001b[39;49mbidirectional, \u001b[39mself\u001b[39;49m\u001b[39m.\u001b[39;49mbatch_first)\n\u001b[1;32m    814\u001b[0m \u001b[39melse\u001b[39;00m:\n\u001b[1;32m    815\u001b[0m     result \u001b[39m=\u001b[39m _VF\u001b[39m.\u001b[39mlstm(\u001b[39minput\u001b[39m, batch_sizes, hx, \u001b[39mself\u001b[39m\u001b[39m.\u001b[39m_flat_weights, \u001b[39mself\u001b[39m\u001b[39m.\u001b[39mbias,\n\u001b[1;32m    816\u001b[0m                       \u001b[39mself\u001b[39m\u001b[39m.\u001b[39mnum_layers, \u001b[39mself\u001b[39m\u001b[39m.\u001b[39mdropout, \u001b[39mself\u001b[39m\u001b[39m.\u001b[39mtraining, \u001b[39mself\u001b[39m\u001b[39m.\u001b[39mbidirectional)\n",
      "\u001b[0;31mKeyboardInterrupt\u001b[0m: "
     ]
    }
   ],
   "source": [
    "\n",
    "\n",
    "# Define your model, criterion, optimizer, scheduler, and data loaders here\n",
    "# ...\n",
    "\n",
    "losses = {\n",
    "    \"train\": [],\n",
    "    \"test\": [],\n",
    "}\n",
    "metrics = {\n",
    "    \"train\": [],\n",
    "    \"test\": [],\n",
    "}\n",
    "\n",
    "for epoch in range(EPOCHS):\n",
    "\n",
    "    # TRAINING\n",
    "    with tqdm(total=len(train_dataloader)) as pbar:\n",
    "        model.train()\n",
    "        temp_acc = 0\n",
    "        temp_loss = 0\n",
    "\n",
    "        for x, y in train_dataloader:\n",
    "            optimizer.zero_grad()\n",
    "            preds = model(x)\n",
    "            assert isinstance(preds, torch.Tensor), \"preds is not a tensor\"\n",
    "            assert isinstance(y, torch.Tensor), \"y is not a tensor\"\n",
    "            loss = criterion(preds, y)\n",
    "            loss.backward()\n",
    "            optimizer.step()\n",
    "            metric = accuracy(preds, y)\n",
    "\n",
    "            losses['train'].append(loss.item())\n",
    "            metrics['train'].append(metric.item())\n",
    "\n",
    "            pbar.update(1)\n",
    "            \n",
    "            if pbar.n % (len(train_dataloader) // INFO_SPLIT) == 0:\n",
    "                # Interrupting the progress bar to show metrics and losses\n",
    "                round_to = 4\n",
    "                temp_loss = str(round(np.mean(losses['train'][-len(train_dataloader) // INFO_SPLIT:]), round_to))\n",
    "                temp_acc = str(round(np.mean(metrics['train'][-len(train_dataloader) // INFO_SPLIT:]), round_to))\n",
    "                temp_loss += \" \" * (round_to + 2 - len(temp_loss))\n",
    "                temp_acc += \" \" * (round_to + 2 - len(temp_acc))\n",
    "\n",
    "                pbar.set_description(f\"Epoch {epoch+1}/{EPOCHS} ----> [ Loss: {temp_loss} Accuracy: {temp_acc} ]\")\n",
    "                print()\n",
    "    \n",
    "    # TESTING\n",
    "    with torch.no_grad():\n",
    "        model.eval()\n",
    "        for x, y in test_dataloader:\n",
    "            preds = model(x)\n",
    "            loss = criterion(preds, y)\n",
    "            metric = accuracy(preds, y)\n",
    "\n",
    "            losses['test'].append(loss.item())\n",
    "            metrics['test'].append(metric.item())\n",
    "        print(f\"Epoch {epoch+1}/{EPOCHS} ----> [ Test Loss: {np.mean(losses['test'])} Test Accuracy: {np.mean(metrics['test'])} ]\")\n",
    "        print()\n",
    "\n",
    "    # END OF EPOCH\n",
    "    scheduler.step()\n",
    "\n",
    "    # Run any additional code you have here (e.g., prediction on test sentences)\n",
    "\n",
    "    if epoch > 0:\n",
    "        plot_history(\n",
    "            splits=epoch+1,\n",
    "            skip_keys=[],\n",
    "            figsize=(10, 10//3),\n",
    "            history={\n",
    "                \"loss\": losses,\n",
    "                \"accuracy\": metrics,\n",
    "            }\n",
    "        )\n"
   ]
  },
  {
   "cell_type": "code",
   "execution_count": 60,
   "metadata": {},
   "outputs": [
    {
     "data": {
      "image/png": "[encoded data removed]",
      "text/plain": [
       "<Figure size 1008x288 with 2 Axes>"
      ]
     },
     "metadata": {
      "needs_background": "light"
     },
     "output_type": "display_data"
    }
   ],
   "source": [
    "plot_history(\n",
    "    splits = 200,\n",
    "    skip_keys = [\n",
    "        # \"train\",\n",
    "        \"test\"\n",
    "    ],\n",
    "    figsize = (14, 14//3),\n",
    "    history = {\n",
    "        \"loss\": losses,\n",
    "        \"accuracy\": metrics,\n",
    "    }\n",
    ")"
   ]
  },
  {
   "cell_type": "code",
   "execution_count": 61,
   "metadata": {},
   "outputs": [],
   "source": [
    "# GETTING THE PREDICTIONS\n",
    "\n",
    "valid_preds = []\n",
    "valid_labels = []\n",
    "with torch.no_grad():\n",
    "    model.eval()\n",
    "    for x, y in test_dataloader:\n",
    "        preds = model(x)\n",
    "        valid_preds.extend(preds.round().type(torch.int32).tolist())\n",
    "        valid_labels.extend(y.type(torch.int32).tolist())"
   ]
  },
  {
   "cell_type": "code",
   "execution_count": 62,
   "metadata": {},
   "outputs": [
    {
     "name": "stdout",
     "output_type": "stream",
     "text": [
      "Accuracy: 0.4595\n",
      "\n",
      "Confusion Matrix:\n",
      "[[39116     0]\n",
      " [46019     0]]\n",
      "\n"
     ]
    },
    {
     "data": {
      "image/png": "[encoded data removed]",
      "text/plain": [
       "<Figure size 432x288 with 2 Axes>"
      ]
     },
     "metadata": {
      "needs_background": "light"
     },
     "output_type": "display_data"
    },
    {
     "name": "stderr",
     "output_type": "stream",
     "text": [
      "/Users/anshumalikarna/opt/anaconda3/lib/python3.9/site-packages/sklearn/metrics/_classification.py:1334: UndefinedMetricWarning: Precision is ill-defined and being set to 0.0 due to no predicted samples. Use `zero_division` parameter to control this behavior.\n",
      "  _warn_prf(average, modifier, msg_start, len(result))\n",
      "/Users/anshumalikarna/opt/anaconda3/lib/python3.9/site-packages/sklearn/metrics/_classification.py:1334: UndefinedMetricWarning: Precision and F-score are ill-defined and being set to 0.0 in labels with no predicted samples. Use `zero_division` parameter to control this behavior.\n",
      "  _warn_prf(average, modifier, msg_start, len(result))\n",
      "/Users/anshumalikarna/opt/anaconda3/lib/python3.9/site-packages/sklearn/metrics/_classification.py:1334: UndefinedMetricWarning: Precision and F-score are ill-defined and being set to 0.0 in labels with no predicted samples. Use `zero_division` parameter to control this behavior.\n",
      "  _warn_prf(average, modifier, msg_start, len(result))\n"
     ]
    },
    {
     "name": "stdout",
     "output_type": "stream",
     "text": [
      "\n",
      "Precision: 0.0000\n",
      "Recall: 0.0000\n",
      "F1 Score: 0.0000\n",
      "\n",
      "Classification Report:\n",
      "              precision    recall  f1-score   support\n",
      "\n",
      "           0       0.46      1.00      0.63     39116\n",
      "           1       0.00      0.00      0.00     46019\n",
      "\n",
      "    accuracy                           0.46     85135\n",
      "   macro avg       0.23      0.50      0.31     85135\n",
      "weighted avg       0.21      0.46      0.29     85135\n",
      "\n"
     ]
    },
    {
     "name": "stderr",
     "output_type": "stream",
     "text": [
      "/Users/anshumalikarna/opt/anaconda3/lib/python3.9/site-packages/sklearn/metrics/_classification.py:1334: UndefinedMetricWarning: Precision and F-score are ill-defined and being set to 0.0 in labels with no predicted samples. Use `zero_division` parameter to control this behavior.\n",
      "  _warn_prf(average, modifier, msg_start, len(result))\n"
     ]
    }
   ],
   "source": [
    "import numpy as np\n",
    "import matplotlib.pyplot as plt\n",
    "from sklearn.metrics import accuracy_score, confusion_matrix, precision_score, recall_score, f1_score, classification_report\n",
    "\n",
    "# Calculate accuracy\n",
    "acc = accuracy_score(valid_labels, valid_preds)\n",
    "print(f\"Accuracy: {acc:.4f}\")\n",
    "\n",
    "# Calculate confusion matrix\n",
    "cm = confusion_matrix(valid_labels, valid_preds)\n",
    "print()\n",
    "print(\"Confusion Matrix:\")\n",
    "print(cm)\n",
    "print()\n",
    "\n",
    "# Plot heatmap of confusion matrix\n",
    "plt.imshow(cm, cmap='Blues')\n",
    "plt.title('Confusion Matrix')\n",
    "plt.colorbar()\n",
    "plt.xlabel('Predicted Label')\n",
    "plt.ylabel('True Label')\n",
    "plt.xticks([0, 1], ['0', '1'])\n",
    "plt.yticks([0, 1], ['0', '1'])\n",
    "plt.show()\n",
    "\n",
    "# Calculate precision, recall, and F1 score\n",
    "precision = precision_score(valid_labels, valid_preds)\n",
    "recall = recall_score(valid_labels, valid_preds)\n",
    "f1 = f1_score(valid_labels, valid_preds)\n",
    "\n",
    "print()\n",
    "print(f\"Precision: {precision:.4f}\")\n",
    "print(f\"Recall: {recall:.4f}\")\n",
    "print(f\"F1 Score: {f1:.4f}\")\n",
    "\n",
    "# Print classification report\n",
    "classification_rep = classification_report(valid_labels, valid_preds)\n",
    "print()\n",
    "print(\"Classification Report:\")\n",
    "print(classification_rep)"
   ]
  },
  {
   "cell_type": "code",
   "execution_count": 63,
   "metadata": {},
   "outputs": [
    {
     "name": "stdout",
     "output_type": "stream",
     "text": [
      "0 (0.468) - that was not a bad experience of my life\n",
      "0 (0.468) - that was a bad experience of my life\n"
     ]
    }
   ],
   "source": [
    "predict_texts([\"that was not a bad experience of my life\"])\n",
    "predict_texts([\"that was a bad experience of my life\"])"
   ]
  },
  {
   "cell_type": "code",
   "execution_count": 64,
   "metadata": {},
   "outputs": [
    {
     "name": "stdout",
     "output_type": "stream",
     "text": [
      "Text: I'm extremely disappointed with the quality of this item; it broke within a week.\n",
      "Prediction: Negative Sentiment ( Confidence in Prediction: 53.11% )\n",
      "\n",
      "Text: The customer support for this product is terrible; they were unhelpful and rude.\n",
      "Prediction: Negative Sentiment ( Confidence in Prediction: 53.15% )\n",
      "\n",
      "Text: I had high expectations for this item, but it turned out to be a total letdown.\n",
      "Prediction: Negative Sentiment ( Confidence in Prediction: 53.06% )\n",
      "\n",
      "Text: The shipping was delayed, and the packaging was damaged when the product arrived.\n",
      "Prediction: Negative Sentiment ( Confidence in Prediction: 53.11% )\n",
      "\n",
      "Text: I encountered multiple issues with this item, and the manufacturer provided no solutions.\n",
      "Prediction: Negative Sentiment ( Confidence in Prediction: 53.13% )\n",
      "\n",
      "Text: The features advertised for this product are misleading; it doesn't perform as claimed.\n",
      "Prediction: Negative Sentiment ( Confidence in Prediction: 53.14% )\n",
      "\n",
      "Text: I found this item to be overpriced for its quality; it doesn't justify the cost.\n",
      "Prediction: Negative Sentiment ( Confidence in Prediction: 53.06% )\n",
      "\n",
      "Text: The user interface is confusing and difficult to navigate; it's not user-friendly at all.\n",
      "Prediction: Negative Sentiment ( Confidence in Prediction: 53.12% )\n",
      "\n",
      "Text: The product exceeded my expectations and I am extremely satisfied with it.\n",
      "Prediction: Negative Sentiment ( Confidence in Prediction: 53.13% )\n",
      "\n",
      "Text: This is the best product I've ever purchased, and I can't recommend it enough.\n",
      "Prediction: Negative Sentiment ( Confidence in Prediction: 53.13% )\n",
      "\n",
      "Text: The quality of the product is outstanding, and it's worth every penny.\n",
      "Prediction: Negative Sentiment ( Confidence in Prediction: 53.13% )\n",
      "\n",
      "Text: I've had this item for a week now, and I'm impressed with its performance.\n",
      "Prediction: Negative Sentiment ( Confidence in Prediction: 53.13% )\n",
      "\n",
      "Text: I was skeptical at first, but this product turned out to be a pleasant surprise.\n",
      "Prediction: Negative Sentiment ( Confidence in Prediction: 53.1% )\n",
      "\n",
      "Text: The product arrived in a damaged box, but fortunately, the item itself was fine.\n",
      "Prediction: Negative Sentiment ( Confidence in Prediction: 53.1% )\n",
      "\n",
      "Text: I've tried many similar products, but this one stands out from the rest.\n",
      "Prediction: Negative Sentiment ( Confidence in Prediction: 53.14% )\n",
      "\n",
      "Text: The features of this item are impressive, and it offers great value for money.\n",
      "Prediction: Negative Sentiment ( Confidence in Prediction: 53.09% )\n",
      "\n"
     ]
    }
   ],
   "source": [
    "x, y = collate_batch(\n",
    "    [[0, TEXT_PIPELINE(text)] for text in TEST_SENTENCES]\n",
    ")\n",
    "model.eval()\n",
    "preds = model(x)\n",
    "# preds = preds.round()\n",
    "preds = preds.tolist()\n",
    "\n",
    "for pred, orig_text in zip(preds, TEST_SENTENCES):\n",
    "    print(f\"Text: {orig_text}\")\n",
    "    print(f\"Prediction: {['Negative Sentiment', 'Positive Sentiment'][int(round(pred))]} ( Confidence in Prediction: {abs(round(( pred - (1 - round(pred)) ) * 100 , 2))}% )\")\n",
    "    print()"
   ]
  },
  {
   "cell_type": "code",
   "execution_count": 65,
   "metadata": {},
   "outputs": [],
   "source": [
    "torch.save(model.state_dict(), 'model.pt')"
   ]
  },
  {
   "cell_type": "code",
   "execution_count": null,
   "metadata": {},
   "outputs": [],
   "source": []
  }
 ],
 "metadata": {
  "kernelspec": {
   "display_name": "base",
   "language": "python",
   "name": "python3"
  },
  "language_info": {
   "codemirror_mode": {
    "name": "ipython",
    "version": 3
   },
   "file_extension": ".py",
   "mimetype": "text/x-python",
   "name": "python",
   "nbconvert_exporter": "python",
   "pygments_lexer": "ipython3",
   "version": "3.9.12"
  },
  "orig_nbformat": 4
 },
 "nbformat": 4,
 "nbformat_minor": 2
}
